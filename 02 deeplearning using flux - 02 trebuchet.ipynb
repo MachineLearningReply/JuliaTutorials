{
 "cells": [
  {
   "cell_type": "markdown",
   "metadata": {},
   "source": [
    "# Controlling a Trebuchet"
   ]
  },
  {
   "cell_type": "markdown",
   "metadata": {},
   "source": [
    "![trebuchet](https://fluxml.ai/assets/2019-03-05-dp-vs-rl/trebuchet-basic.gif)"
   ]
  },
  {
   "cell_type": "markdown",
   "metadata": {},
   "source": [
    "There is Trebuchet, which throws a mass to a target. The mass is to be\n",
    "released at an angle, and at certain velocity so that it lands on the target.\n",
    "The velocity of release is determined by the counterweight of the Trebuchet.\n",
    "Given conditions of environment we are required to predict the angle of\n",
    "release and counterweight.\n",
    "\n",
    "* **Input:**  Wind speed,   Target distance\n",
    "* **Output:** ReleaseAngle, Weight"
   ]
  },
  {
   "cell_type": "markdown",
   "metadata": {},
   "source": [
    "![overview](https://fluxml.ai/assets/2019-03-05-dp-vs-rl/trebuchet-flow.png)"
   ]
  },
  {
   "cell_type": "code",
   "execution_count": null,
   "metadata": {},
   "outputs": [],
   "source": [
    "using Flux\n",
    "using Random\n",
    "using Plots\n",
    "plotlyjs()\n",
    "import Trebuchet\n",
    "import Zygote\n",
    "\n",
    "# linear interpolation helper\n",
    "lerp(x, lo, hi) = x*(hi-lo)+lo\n",
    "\n",
    "# there is currently an issue with Zygote.ignore, luckily a self-written version still works\n",
    "# for an update consult https://github.com/FluxML/Zygote.jl/issues/677 \n",
    "gradient_ignore(f) = f()\n",
    "Zygote.@adjoint gradient_ignore(f) = gradient_ignore(f), _ -> nothing"
   ]
  },
  {
   "cell_type": "code",
   "execution_count": null,
   "metadata": {},
   "outputs": [],
   "source": [
    "function visualize_trebuchet(;target=100, wind_speed=1.0, release_angle=45, weight=98.09)  # default values from TrebuchetState\n",
    "    # state is going to be mutated by simulate, hence we capsulate it into our own method\n",
    "    release_angle = Trebuchet.deg2rad(release_angle)\n",
    "    state = Trebuchet.TrebuchetState(wind_speed=wind_speed, release_angle=release_angle, weight=weight)\n",
    "    Trebuchet.simulate(state)  # should be named `simulate!(t)`\n",
    "    Trebuchet.visualise(state, target)\n",
    "end \n",
    "\n",
    "function shoot_trebuchet(;wind_speed=1.0, release_angle=45, weight=98.09)\n",
    "    release_angle = Trebuchet.deg2rad(release_angle)\n",
    "    state = Trebuchet.TrebuchetState(;wind_speed=wind_speed, release_angle=release_angle, weight=weight)\n",
    "    weight > 0 || return 0.0\n",
    "    Trebuchet.simulate(state)\n",
    "    Trebuchet.endDist(state)\n",
    "end"
   ]
  },
  {
   "cell_type": "code",
   "execution_count": null,
   "metadata": {},
   "outputs": [],
   "source": [
    "visualize_trebuchet(target=50)"
   ]
  },
  {
   "cell_type": "code",
   "execution_count": null,
   "metadata": {},
   "outputs": [],
   "source": [
    "shoot_trebuchet()"
   ]
  },
  {
   "cell_type": "markdown",
   "metadata": {},
   "source": [
    "## Create Model"
   ]
  },
  {
   "cell_type": "code",
   "execution_count": null,
   "metadata": {},
   "outputs": [],
   "source": [
    "Random.seed!(0)\n",
    "model = Chain(Dense(2, 16, σ),\n",
    "              Dense(16, 64, σ),\n",
    "              Dense(64, 16, σ),\n",
    "              Dense(16, 2)) |> f32\n",
    "θ = params(model)"
   ]
  },
  {
   "cell_type": "markdown",
   "metadata": {},
   "source": [
    "## Create Loss"
   ]
  },
  {
   "cell_type": "markdown",
   "metadata": {},
   "source": [
    "As Trebuchet.shoot uses `try`/`catch` within, which is not yet supported by default backwards differentiation, we need to mark our shoot function with ``Zygote.forwarddiff`` marker."
   ]
  },
  {
   "cell_type": "code",
   "execution_count": null,
   "metadata": {},
   "outputs": [],
   "source": [
    "function aim(wind, target)\n",
    "  angle, weight = model([wind, target])\n",
    "  angle = σ(angle)*90\n",
    "  weight = weight + 200\n",
    "  (release_angle=angle, weight=weight)\n",
    "end\n",
    "\n",
    "function visualize_model(;wind_speed=1.0, target=100)\n",
    "    release_angle, weight = aim(wind_speed, target)\n",
    "    visualize_trebuchet(target=target, wind_speed=wind_speed, release_angle=release_angle, weight=weight)\n",
    "end\n",
    "\n",
    "function shoot_model(;wind_speed=1.0, target=100)\n",
    "    release_angle, weight = aim(wind_speed, target)\n",
    "    # shoot_trebuchet uses array mutation internally, which is not yet supported by Zygote ReverseDiff\n",
    "    # however forwarddiff works with everything, including array mutation and try/catch,\n",
    "    # hence we mark this respectively\n",
    "    Zygote.forwarddiff([wind_speed, release_angle, weight]) do (wind_speed, release_angle, weight)\n",
    "        shoot_trebuchet(wind_speed=wind_speed, release_angle=release_angle, weight=weight)\n",
    "    end\n",
    "end"
   ]
  },
  {
   "cell_type": "code",
   "execution_count": null,
   "metadata": {},
   "outputs": [],
   "source": [
    "visualize_model(wind_speed=1.0, target=50)"
   ]
  },
  {
   "cell_type": "code",
   "execution_count": null,
   "metadata": {},
   "outputs": [],
   "source": [
    "shoot_model(wind_speed=1.0, target=50)"
   ]
  },
  {
   "cell_type": "markdown",
   "metadata": {},
   "source": [
    "## Train"
   ]
  },
  {
   "cell_type": "code",
   "execution_count": null,
   "metadata": {},
   "outputs": [],
   "source": [
    "target_min, target_max = 20, 100\t# Maximum target distance\n",
    "wind_speed_mean = 5 # Maximum wind speed\n",
    "\n",
    "random_target() = (\n",
    "    wind_speed = randn() * wind_speed_mean,\n",
    "    target = lerp(rand(), target_min, target_max)\n",
    ")"
   ]
  },
  {
   "cell_type": "code",
   "execution_count": null,
   "metadata": {},
   "outputs": [],
   "source": [
    "losses = Float64[]\n",
    "iterations = Int[]\n",
    "i = 0"
   ]
  },
  {
   "cell_type": "code",
   "execution_count": null,
   "metadata": {},
   "outputs": [],
   "source": [
    "optimizer = ADAM()\n",
    "try\n",
    "    while true\n",
    "        i += 1\n",
    "        wind_speed, target = random_target()\n",
    "        ∇θ = gradient(θ) do\n",
    "            hit = shoot_model(wind_speed=wind_speed, target=target)\n",
    "            loss = (hit - target)^2\n",
    "            gradient_ignore() do\n",
    "                if i % 100 == 0\n",
    "                    push!(losses, loss)\n",
    "                    push!(iterations, i)\n",
    "                    plot(iterations, losses, show = :inline, yscale = :log10,\n",
    "                        label = \"square-loss\", xlabel = \"#iteration\", ylabel=\"loss (log10 scale)\")\n",
    "                end\n",
    "            end\n",
    "            loss\n",
    "        end\n",
    "        Flux.update!(optimizer, θ, ∇θ)\n",
    "    end\n",
    "    \n",
    "catch e\n",
    "    if e isa InterruptException\n",
    "        visualize_model(;random_target()...)\n",
    "    end\n",
    "end "
   ]
  },
  {
   "cell_type": "code",
   "execution_count": null,
   "metadata": {},
   "outputs": [],
   "source": [
    "visualize_model(;random_target()...)"
   ]
  },
  {
   "cell_type": "markdown",
   "metadata": {},
   "source": [
    "# Thank you\n",
    "\n",
    "For more details and further examples see the original blogpost  https://fluxml.ai/2019/03/05/dp-vs-rl.html.\n",
    "\n",
    "Or ask me directly at s.sahm@reply.de."
   ]
  }
 ],
 "metadata": {
  "@webio": {
   "lastCommId": "5169d27e-ed7b-42ca-aad4-7d25854ea37f",
   "lastKernelId": "952fe580-023f-4328-9fa2-fd0185b90353"
  },
  "kernelspec": {
   "display_name": "Julia 1.4.1",
   "language": "julia",
   "name": "julia-1.4"
  },
  "language_info": {
   "file_extension": ".jl",
   "mimetype": "application/julia",
   "name": "julia",
   "version": "1.4.1"
  }
 },
 "nbformat": 4,
 "nbformat_minor": 4
}
