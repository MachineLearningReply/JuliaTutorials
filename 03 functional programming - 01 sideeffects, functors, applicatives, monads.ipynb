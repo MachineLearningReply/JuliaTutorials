{
 "cells": [
  {
   "cell_type": "markdown",
   "metadata": {},
   "source": [
    "# Functional Programming\n",
    "\n",
    "In the functional programming paradigm, functions are the key building block. More concretely, the focus is on pure functions, avoiding shared state, mutable data, and side-effects."
   ]
  },
  {
   "cell_type": "markdown",
   "metadata": {},
   "source": [
    "To get an example, take the construction of a list. You can do it two ways:"
   ]
  },
  {
   "cell_type": "code",
   "execution_count": null,
   "metadata": {},
   "outputs": [],
   "source": [
    "a = []\n",
    "for i in 10:15\n",
    "    if isodd(i)\n",
    "        push!(a, i*i)\n",
    "    end\n",
    "end\n",
    "a"
   ]
  },
  {
   "cell_type": "code",
   "execution_count": null,
   "metadata": {},
   "outputs": [],
   "source": [
    "a = [i*i for i in 10:15 if isodd(i)]"
   ]
  },
  {
   "cell_type": "markdown",
   "metadata": {},
   "source": [
    "**Question to you:** Which one do you think is more functional in the above sense?"
   ]
  },
  {
   "cell_type": "markdown",
   "metadata": {},
   "source": [
    "# Sideeffects\n",
    "\n",
    "The probably most famous side effect are errors and error handling respectively."
   ]
  },
  {
   "cell_type": "code",
   "execution_count": null,
   "metadata": {},
   "outputs": [],
   "source": [
    "function checkoddness_errorsideeffect(i)\n",
    "    if isodd(i)\n",
    "        return i\n",
    "    else\n",
    "        error(\"Found even number $i\")\n",
    "    end\n",
    "end"
   ]
  },
  {
   "cell_type": "code",
   "execution_count": null,
   "metadata": {},
   "outputs": [],
   "source": [
    "try\n",
    "    checkoddness_errorsideeffect(4)\n",
    "catch exc\n",
    "    exc\n",
    "end"
   ]
  },
  {
   "cell_type": "markdown",
   "metadata": {},
   "source": [
    "**Question to you:** How could we get rid of this sideeffect?"
   ]
  },
  {
   "cell_type": "markdown",
   "metadata": {},
   "source": [
    "# Functors - the basics of sideffects\n",
    "\n",
    "One famous answer is to make it explicit and include it into the returned type.\n",
    "\n",
    "For example, instead a dealing with a return value which may just not exist but fail instead, we deal with a return value that may be an exception.\n",
    "\n",
    "For more control we wrap this into our own litte helper type."
   ]
  },
  {
   "cell_type": "code",
   "execution_count": null,
   "metadata": {},
   "outputs": [],
   "source": [
    "struct MyTry\n",
    "    value\n",
    "end"
   ]
  },
  {
   "cell_type": "code",
   "execution_count": null,
   "metadata": {},
   "outputs": [],
   "source": [
    "function checkoddness_mytry(i)\n",
    "    if isodd(i)\n",
    "        return MyTry(i)\n",
    "    else\n",
    "        MyTry(ErrorException(\"Found even number $i\"))\n",
    "    end\n",
    "end"
   ]
  },
  {
   "cell_type": "code",
   "execution_count": null,
   "metadata": {},
   "outputs": [],
   "source": [
    "checkoddness_mytry(10)"
   ]
  },
  {
   "cell_type": "code",
   "execution_count": null,
   "metadata": {},
   "outputs": [],
   "source": [
    "checkoddness_mytry(1)"
   ]
  },
  {
   "cell_type": "markdown",
   "metadata": {},
   "source": [
    "I hope you get the functional feeling: now nothing is left which can surprise you, everything is explicit.\n",
    "\n",
    "(This is very important for production systems, as they tend to be large, and the larger you get, the less you want to be surprised by some little part doing unexpected things.)"
   ]
  },
  {
   "cell_type": "markdown",
   "metadata": {},
   "source": [
    "-------------\n",
    "\n",
    "However we cannot easily work on `MyTry` yet. Let's rebuild the sideeffect."
   ]
  },
  {
   "cell_type": "code",
   "execution_count": null,
   "metadata": {},
   "outputs": [],
   "source": [
    "function apply_program_within_the_MyTry_wrapper(a_function_representing_my_program, mytry)\n",
    "    if isa(mytry.value, Exception)\n",
    "        # shortcycle if we already found an error\n",
    "        return mytry\n",
    "    else\n",
    "        # otherwise apply the program to the value and wrap it again into MyTry\n",
    "        return MyTry(a_function_representing_my_program(mytry.value))\n",
    "    end\n",
    "end"
   ]
  },
  {
   "cell_type": "code",
   "execution_count": null,
   "metadata": {},
   "outputs": [],
   "source": [
    "a = checkoddness_mytry(3)\n",
    "apply_program_within_the_MyTry_wrapper(i -> i*i, a)"
   ]
  },
  {
   "cell_type": "markdown",
   "metadata": {},
   "source": [
    "There is indeed a common name for this function, it is called `map`."
   ]
  },
  {
   "cell_type": "code",
   "execution_count": null,
   "metadata": {},
   "outputs": [],
   "source": [
    "# it is the same definition as above, just slightly differently written\n",
    "function Base.map(func, mytry::MyTry)\n",
    "    isa(mytry.value, Exception) && return mytry\n",
    "    MyTry(func(mytry.value))\n",
    "end"
   ]
  },
  {
   "cell_type": "markdown",
   "metadata": {},
   "source": [
    "and using do-notation we already have a quite nice syntax to work within our effect"
   ]
  },
  {
   "cell_type": "code",
   "execution_count": null,
   "metadata": {},
   "outputs": [],
   "source": [
    "a = checkoddness_mytry(11)\n",
    "map(a) do i\n",
    "    i*i\n",
    "end"
   ]
  },
  {
   "cell_type": "markdown",
   "metadata": {},
   "source": [
    "What have we done?\n",
    "1. instead of using plain errors, we defined our own return type which makes clear that it may contain an Exception\n",
    "2. we wrote a higher level function which knows about this further wrapper and can apply a function just as if it would now about the error handling\n",
    "\n",
    "Congrats 🙂 ! You've just build your first example of what is called a **Functor** in functional programming.\n",
    "\n",
    "-------\n",
    "\n",
    "But you may also say, despite the do and the map, it still looks more complicated than before, which it is.\n",
    "\n",
    "And to admit, it is also less flexible, because you cannot yet combine multiple errors easily. You need to do something like this."
   ]
  },
  {
   "cell_type": "code",
   "execution_count": null,
   "metadata": {},
   "outputs": [],
   "source": [
    "a = checkoddness_mytry(11)\n",
    "map(a) do i\n",
    "    b = checkoddness_mytry(i + 3)\n",
    "    map(b) do j\n",
    "        j^3\n",
    "    end\n",
    "end"
   ]
  },
  {
   "cell_type": "markdown",
   "metadata": {},
   "source": [
    "We can massively improve over this."
   ]
  },
  {
   "cell_type": "markdown",
   "metadata": {},
   "source": [
    "# Monads - sequential sideffects\n",
    "\n",
    "So what is our goal again?\n",
    "> We have multiple computations which return MyTry (Functors in general), let's call them effectful computations, and we want to combine them together.\n",
    "\n",
    "Like above, where we just wanted to called `checkoddness_mytry` again on the return value of the first call.\n",
    "\n",
    "-------\n",
    "\n",
    "It turns out, what we need is just a way to flatten these nested `MyTry(MyTry(...))`. Instead of flattening them afterwards, what is commonly done is to define version of `map` which directly flattens out `MyTry(MyTry(...))` to `MyTry(...)`. It is typically called `flatmap`.\n",
    "\n",
    "Let's define `flatmap` for `MyTry` and it should get clear."
   ]
  },
  {
   "cell_type": "code",
   "execution_count": null,
   "metadata": {},
   "outputs": [],
   "source": [
    "function flatmap(func_returning_mytry, mytry::MyTry)\n",
    "    if isa(mytry.value, Exception)\n",
    "        # in case of an error, the short cycling is identical to `map`,\n",
    "        # which indeed returns a plain `MyTry(...)`, and not a `MyTry(MyTry(...)`, exactly like we wished\n",
    "        return mytry\n",
    "    else\n",
    "        # in the case where we have a proper value, we just apply the given function and return its result\n",
    "        # again this will be a plain `MyTry(...)`, and not a `MyTry(MyTry(...)`, exactly like we wished\n",
    "        return func_returning_mytry(mytry.value)\n",
    "    end\n",
    "end "
   ]
  },
  {
   "cell_type": "markdown",
   "metadata": {},
   "source": [
    "That is it 🙂 . Congrats again - you understood your first Monad! 🙂\n",
    "\n",
    "Let's see how it works"
   ]
  },
  {
   "cell_type": "code",
   "execution_count": null,
   "metadata": {},
   "outputs": [],
   "source": [
    "a = checkoddness_mytry(11)\n",
    "flatmap(a) do i\n",
    "    b = checkoddness_mytry(i + 3)\n",
    "    map(b) do j\n",
    "        j^3\n",
    "    end\n",
    "end"
   ]
  },
  {
   "cell_type": "markdown",
   "metadata": {},
   "source": [
    "Yeah! we now have a `MyTry` and not a `MyTry(MyTry(...))` any longer!\n",
    "\n",
    "You won't believe it, but indeed this is everything. Now you are a master of this black magic which captures sideeffects cleanly and makes you able to work on them smoothly.\n",
    "\n",
    "*Cough, smoothly?*\n",
    "\n",
    "Yes, the concept is so powerful that we now can add nice syntax upon it by using a little package. (DISCLAIMER: I am the author of that package)."
   ]
  },
  {
   "cell_type": "code",
   "execution_count": null,
   "metadata": {},
   "outputs": [],
   "source": [
    "using Monadic"
   ]
  },
  {
   "cell_type": "code",
   "execution_count": null,
   "metadata": {},
   "outputs": [],
   "source": [
    "@monadic map flatmap begin\n",
    "    i = checkoddness_mytry(11)\n",
    "    j = checkoddness_mytry(i + 2)\n",
    "    @pure i + j*j\n",
    "end"
   ]
  },
  {
   "cell_type": "markdown",
   "metadata": {},
   "source": [
    "I truly hope this mindblows you."
   ]
  },
  {
   "cell_type": "markdown",
   "metadata": {},
   "source": [
    "# What about Lists?\n",
    "\n",
    "We have developed everything using Errors as one example of sideeffects. Actually the concept is not restricted at all to sideeffects. (It is only that sideffects have been one of the motivators in programming theory which lead to Functors and Monads finally being developed as such).\n",
    "\n",
    "**We only need to define `map` and `flatmap` and we are ready to go.**\n",
    "\n",
    "Let's take the list again. We already know what `map` should do - applying a function elementwise."
   ]
  },
  {
   "cell_type": "code",
   "execution_count": null,
   "metadata": {},
   "outputs": [],
   "source": [
    "map([1,2,3,4]) do i\n",
    "    i * i\n",
    "end"
   ]
  },
  {
   "cell_type": "markdown",
   "metadata": {},
   "source": [
    "Works out of the box.\n",
    "\n",
    "So what should flatmap look like? Just concatenating the sublists respectively."
   ]
  },
  {
   "cell_type": "code",
   "execution_count": null,
   "metadata": {},
   "outputs": [],
   "source": [
    "flatmap(func_returning_vector, vector::Vector) = vcat(map(func_returning_vector, vector)...)"
   ]
  },
  {
   "cell_type": "markdown",
   "metadata": {},
   "source": [
    "And ready we are!"
   ]
  },
  {
   "cell_type": "code",
   "execution_count": null,
   "metadata": {},
   "outputs": [],
   "source": [
    "@monadic map flatmap begin\n",
    "    i = [1, 3, 9]\n",
    "    j = [i, i*i]\n",
    "    @pure i + j\n",
    "end"
   ]
  },
  {
   "cell_type": "markdown",
   "metadata": {},
   "source": [
    "What does this monad do? It behaves like nested for loops, however not only executing things, but collecting all results into a final list."
   ]
  },
  {
   "cell_type": "markdown",
   "metadata": {},
   "source": [
    "# Outlook Monads\n",
    "\n",
    "Congratulations. You understood Monads, something I would guess 90% of all programmers do not understand, probably more. It is a simple and super-mighty concept, and production-ready of course.\n",
    "\n",
    "There are many more common Monads which are used in production. Just that you heard some names: There is Maybe/Option, Either, Try, Continuation Monad, AtomicComputation Monads, Probabilistic Indeterminism Monads, ContextManagers can be represented as Monads, there are Writer, Reader, and Free Monads, and many more.\n",
    "\n",
    "As Monads have a unified interface, there are also helpers which work generically on any Monad.\n",
    "\n",
    "There is also a typical pitfall of monads, namely while you can easily combine a single monad with itself (that is kind of its definition), you cannot easily combine multiple different monads. However, just that you know, there are production ready solution to this, and one of it are so called Algebraic Effects, which are not the same as Monads, but similar enough for most usecases, and indeed can combine different Effects seamlessly. I guess only 0.1% of the programmers know about this one, if at all."
   ]
  },
  {
   "cell_type": "markdown",
   "metadata": {},
   "source": [
    "# Applicatives - parallel sideeffects\n",
    "\n",
    "We have no time left, however you should at least know that this concept exist, it is very wide spread.\n",
    "\n",
    "The key difference to Monads is that monads always need to know the precise outcome of the previous effectful computation, and hence they need to be executed sequentially. Applicatives don't have this requirement and can indeed be executed in a parallel manner.\n",
    "\n",
    "Key functions:\n",
    "- Functor: `map`\n",
    "- Monad: `flatmap`\n",
    "- Applicative: `mapn`"
   ]
  },
  {
   "cell_type": "markdown",
   "metadata": {},
   "source": [
    "With `mapn` I mean a higher order function similar to map, however it can take multiple arguments at once.\n",
    "\n",
    "```julia\n",
    "a = func_with_mytry(11)\n",
    "b = func_with_mytry(12)\n",
    "mapn(a, b) do i, j\n",
    "    i + j\n",
    "end\n",
    "```"
   ]
  },
  {
   "cell_type": "markdown",
   "metadata": {},
   "source": [
    "--------\n",
    "\n",
    "You can implement such `mapn` also using `flatmap`, however then it would be sequential by definition. Defining `mapn` directly instead, enables you to parallelize the effects executions instead.\n",
    "\n",
    "\n",
    "To make this clear, consider a list as the monad. Let's have two lists where we just want to find all pairs.\n",
    "```julia\n",
    "list1 = [1, 2]\n",
    "list2 = [6, 7, 8]\n",
    "```\n",
    "With monads, i.e. `flatmap`, you would implement `mapn` like follows:\n",
    "```julia\n",
    "function mapn_monadic(func, list1, list2)\n",
    "    flatmap(list1) do i\n",
    "        map(list2) do j\n",
    "            func(i, j)\n",
    "        end\n",
    "    end\n",
    "end\n",
    "```\n",
    "Studying this, you see, that we go through `list1` one by one, everytime go over `list2` again and again. It is sequential in nature, the execution over `list2` really depends on the concrete value of `list1` which we are currently looking at.\n",
    "\n",
    "With applicatives we can imagine whatever implementation we guess is better, and also inspecting both lists together.\n",
    "```julia\n",
    "function mapn(func, list1::Vector, list2::Vector)\n",
    "    map([(i, j) for i in list1 for j in list2]) do (i, j)\n",
    "       func(i,j)\n",
    "    end\n",
    "end\n",
    "```\n",
    "Studying this you see, that we can first construct the pairs, and then parallelize the whole computation over all pairs.\n",
    "Replacing `map` with `Distributed.pmap`, which is like map, but uses all available worker nodes, you get a true feeling of the parallelism."
   ]
  }
 ],
 "metadata": {
  "kernelspec": {
   "display_name": "Julia 1.4.1",
   "language": "julia",
   "name": "julia-1.4"
  },
  "language_info": {
   "file_extension": ".jl",
   "mimetype": "application/julia",
   "name": "julia",
   "version": "1.4.1"
  }
 },
 "nbformat": 4,
 "nbformat_minor": 4
}
